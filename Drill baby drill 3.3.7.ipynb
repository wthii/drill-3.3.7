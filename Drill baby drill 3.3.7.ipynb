{
 "cells": [
  {
   "cell_type": "code",
   "execution_count": 34,
   "metadata": {
    "collapsed": true
   },
   "outputs": [],
   "source": [
    "import numpy as np\n",
    "import pandas as pd\n",
    "import scipy\n",
    "import matplotlib.pyplot as plt\n",
    "%matplotlib inline"
   ]
  },
  {
   "cell_type": "code",
   "execution_count": 47,
   "metadata": {
    "collapsed": false
   },
   "outputs": [
    {
     "data": {
      "image/png": "[encoded data removed]",
      "text/plain": [
       "<matplotlib.figure.Figure at 0x118138710>"
      ]
     },
     "metadata": {},
     "output_type": "display_data"
    }
   ],
   "source": [
    "pop1 = np.random.binomial( 10, 0.4, 10000 )\n",
    "pop2 = np.random.binomial( 10, 0.5, 10000 ) \n",
    "\n",
    "# Let’s make histograms for the two groups. \n",
    "\n",
    "plt.hist( pop1, alpha = 0.5, bins = 8, label = 'Population 1' )\n",
    "plt.hist( pop2, alpha = 0.5, bins = 8, label = 'Population 2' ) \n",
    "plt.legend( loc = 'upper right' )\n",
    "plt.show()"
   ]
  },
  {
   "cell_type": "code",
   "execution_count": 48,
   "metadata": {
    "collapsed": false
   },
   "outputs": [
    {
     "data": {
      "image/png": "[encoded data removed]",
      "text/plain": [
       "<matplotlib.figure.Figure at 0x117f12978>"
      ]
     },
     "metadata": {},
     "output_type": "display_data"
    }
   ],
   "source": [
    "sample1 = np.random.choice( pop1, 100, replace = True )\n",
    "sample2 = np.random.choice( pop2, 100, replace = True )\n",
    "\n",
    "plt.hist( sample1, alpha = 0.5, bins = 8, label = 'sample 1' )\n",
    "plt.hist( sample2, alpha = 0.5, bins = 8, label = 'sample 2' )\n",
    "plt.legend( loc = 'upper right' ) \n",
    "plt.show()"
   ]
  },
  {
   "cell_type": "code",
   "execution_count": 49,
   "metadata": {
    "collapsed": false
   },
   "outputs": [
    {
     "name": "stdout",
     "output_type": "stream",
     "text": [
      "4.09\n",
      "5.23\n",
      "1.28136645812\n",
      "1.65441832678\n",
      "1.14\n"
     ]
    }
   ],
   "source": [
    "print( sample1.mean() )\n",
    "print( sample2.mean() )\n",
    "print( sample1.std() )\n",
    "print( sample2.std() )\n",
    "\n",
    "# Compute the difference between the two sample means.\n",
    "diff = sample2.mean() - sample1.mean()\n",
    "print( diff )"
   ]
  },
  {
   "cell_type": "code",
   "execution_count": 50,
   "metadata": {
    "collapsed": false
   },
   "outputs": [
    {
     "name": "stdout",
     "output_type": "stream",
     "text": [
      "5.44775262634\n"
     ]
    }
   ],
   "source": [
    "size = np.array( [ len( sample1 ), len( sample2 ) ] )\n",
    "sd   = np.array( [ sample1.std(),  sample2.std()  ] )\n",
    "\n",
    "# The squared standard deviations are divided by the sample size and summed, then we take\n",
    "# the square root of the sum. \n",
    "diff_se = sum( sd ** 2 / size ) ** 0.5  \n",
    "\n",
    "#The difference between the means divided by the standard error: T-value.  \n",
    "print( diff / diff_se )"
   ]
  },
  {
   "cell_type": "code",
   "execution_count": 51,
   "metadata": {
    "collapsed": false
   },
   "outputs": [
    {
     "name": "stdout",
     "output_type": "stream",
     "text": [
      "Ttest_indResult(statistic=5.4204454236716142, pvalue=1.8245451809217841e-07)\n"
     ]
    }
   ],
   "source": [
    "from scipy.stats import ttest_ind\n",
    "print( ttest_ind( sample2, sample1, equal_var = False ) )"
   ]
  },
  {
   "cell_type": "code",
   "execution_count": 33,
   "metadata": {
    "collapsed": true
   },
   "outputs": [],
   "source": [
    "# Question 1:\n",
    "# OK, initially, with both sample sizes equal to 100, I got a t-statistic of 17.347 (and change).  My anticipation is\n",
    "# that larger sample sizes will increase the size of the t-stat, and smaller samples will decrease the size.  This is\n",
    "# because the standard error is the square root of the sum of two fractions, and the denominators of the two fractions\n",
    "# are the two sample sizes.  Larger samples decrease the fractions and smaller samples increase the fractions.  The\n",
    "# square root in the standard error is an increasing function;  that is, the smaller the quantity under the radical,\n",
    "# the smaller the radical.  The statement had by replacing the word \"smaller\" with \"larger\" in that last sentence is\n",
    "# also true.  All other quantities held constant, the fraction diff / diff_se decreases when diff_se increases, and it\n",
    "# increases when diff_se decreases.  So, here's what I saw:\n",
    "#   when sample sizes were   20, diff / diff_se was:   4.246 (and change)\n",
    "#   when sample sizes were  100, diff / diff_se was:  14.164 (and change)\n",
    "#   when sample sizes were 1000, diff / diff_se was:  43.866 (and change)\n",
    "# I LOVE IT when things work out the way they're supposed to."
   ]
  },
  {
   "cell_type": "code",
   "execution_count": 52,
   "metadata": {
    "collapsed": true
   },
   "outputs": [],
   "source": [
    "# Question 2:\n",
    "# Now we're leaving the standard error alone by fixing the sample sizes (both at n = 100, I presume), but we're\n",
    "# monkeying around with the relative locations of the two distributions by making adjustments to the means.  Recall\n",
    "# (from my last assignment submission) that a binomial distribution with parameters n and p has a mean of np.  In both\n",
    "# populations, the parameter n remains 10.  Changing p from 0.2 to 0.3 in the first group moves the mean of pop1 up,\n",
    "# from 2 to 3 -- closer to the pop2 mean of 5.  One would then anticipate diff to shrink, and so our t-statistic will\n",
    "# grow smaller.  A smaller test statistic produces here a larger p-value in the t-test.\n",
    "# \n",
    "# Here are the results:\n",
    "# pop1 p = 0.2;    test stat t:  14.5537378894     p-value:  7.769596365889359e-32\n",
    "# pop1 p = 0.3;    test stat t:   8.88982254667    p-value:  5.1484191947954709e-16\n",
    "# pop1 p = 0.4;    test stat t:   5.44775262634    p-value:  1.8245451809217841e-07\n",
    "# I STILL LOVE IT when things work out the way they're supposed to."
   ]
  },
  {
   "cell_type": "code",
   "execution_count": 64,
   "metadata": {
    "collapsed": false
   },
   "outputs": [
    {
     "data": {
      "image/png": "[encoded data removed]",
      "text/plain": [
       "<matplotlib.figure.Figure at 0x11815f470>"
      ]
     },
     "metadata": {},
     "output_type": "display_data"
    }
   ],
   "source": [
    "pop1 = np.random.chisquare( 1, 10000 )\n",
    "pop2 = np.random.chisquare( 5, 10000 ) \n",
    "\n",
    "# Let’s make histograms for the two groups. \n",
    "\n",
    "plt.hist( pop1, alpha = 0.5, bins = 8, label = 'Population 1' )\n",
    "plt.hist( pop2, alpha = 0.5, bins = 8, label = 'Population 2' ) \n",
    "plt.legend( loc = 'upper right' )\n",
    "plt.show()"
   ]
  },
  {
   "cell_type": "code",
   "execution_count": 65,
   "metadata": {
    "collapsed": false
   },
   "outputs": [
    {
     "data": {
      "image/png": "[encoded data removed]",
      "text/plain": [
       "<matplotlib.figure.Figure at 0x11857e1d0>"
      ]
     },
     "metadata": {},
     "output_type": "display_data"
    }
   ],
   "source": [
    "sample1 = np.random.choice( pop1, 1000, replace = True )\n",
    "sample2 = np.random.choice( pop2, 1000, replace = True )\n",
    "\n",
    "plt.hist( sample1, alpha = 0.5, bins = 8, label = 'sample 1' )\n",
    "plt.hist( sample2, alpha = 0.5, bins = 8, label = 'sample 2' )\n",
    "plt.legend( loc = 'upper right' ) \n",
    "plt.show()"
   ]
  },
  {
   "cell_type": "code",
   "execution_count": 66,
   "metadata": {
    "collapsed": false
   },
   "outputs": [
    {
     "name": "stdout",
     "output_type": "stream",
     "text": [
      "1.00345689459\n",
      "5.04907901424\n",
      "1.40404084912\n",
      "3.16667306412\n",
      "4.04562211965\n"
     ]
    }
   ],
   "source": [
    "print( sample1.mean() )\n",
    "print( sample2.mean() )\n",
    "print( sample1.std() )\n",
    "print( sample2.std() )\n",
    "\n",
    "# Compute the difference between the two sample means.\n",
    "diff = sample2.mean() - sample1.mean()\n",
    "print( diff )"
   ]
  },
  {
   "cell_type": "code",
   "execution_count": 67,
   "metadata": {
    "collapsed": false
   },
   "outputs": [
    {
     "name": "stdout",
     "output_type": "stream",
     "text": [
      "36.9326178253\n"
     ]
    }
   ],
   "source": [
    "size = np.array( [ len( sample1 ), len( sample2 ) ] )\n",
    "sd   = np.array( [ sample1.std(),  sample2.std()  ] )\n",
    "\n",
    "# The squared standard deviations are divided by the sample size and summed, then we take\n",
    "# the square root of the sum. \n",
    "diff_se = sum( sd ** 2 / size ) ** 0.5  \n",
    "\n",
    "#The difference between the means divided by the standard error: T-value.  \n",
    "print( diff / diff_se )"
   ]
  },
  {
   "cell_type": "code",
   "execution_count": 68,
   "metadata": {
    "collapsed": false
   },
   "outputs": [
    {
     "name": "stdout",
     "output_type": "stream",
     "text": [
      "Ttest_indResult(statistic=36.914146897505951, pvalue=6.0172412649240135e-208)\n"
     ]
    }
   ],
   "source": [
    "from scipy.stats import ttest_ind\n",
    "print( ttest_ind( sample2, sample1, equal_var = False ) )"
   ]
  },
  {
   "cell_type": "code",
   "execution_count": 69,
   "metadata": {
    "collapsed": true
   },
   "outputs": [],
   "source": [
    "# Question 3:\n",
    "# OK, sweet -- let's hoist a cheer for the central limit theorem by showing how it all works out even when we start\n",
    "# with some screwball asymmetric skewed distributions.  How about Chi-square?  One with df = 1, the other with df = 5.\n",
    "# Recall that df gives the mean of the chi-square distributions.  The delicious CLT preaches the gospel that even in\n",
    "# the presence of extreme skewness, our sample differences will be approximately normal.  So, our t-statistic will\n",
    "# follow Mr. Gosset's (i.e., Student's) t-distribution, and we can coax a p-value out of that sucker.  Check it out!\n",
    "#   t = diff / diff_se:  11.5069230557    p-value:  5.3411030799966466e-22\n",
    "# For giggles we up the df in pop1 from 1 to 3.  I think it will shrink diff, meaning our t-stat is reduced, and so\n",
    "# our t-test p-value gets bigger.  Let's look:\n",
    "#   t = diff / diff_se:   5.59967039882   p-value:  8.7164011727990102e-08\n",
    "# That's a stone cold groove, baby.  OK, go back to pop1 df = 1, but this time we'll up the sample size from 100 to\n",
    "# 1000.  How will that effect the procedings?  Same way it did in question #1 -- by making the denominators in the two\n",
    "# fractions in diff_se bigger, and therefore making diff_se smaller.  So that makes the test statistic\n",
    "# t = diff / diff_se bigger and also makes the p-value of the test so freaking small, a high-powered electron\n",
    "# microscope will be needed to see it.  LET'S WATCH!\n",
    "#   t = diff / diff_se:  36.9326178253    p-value:  6.0172412649240135e-208\n",
    "# Sweet Jesus on roller skates.  All hail to the mighty CLT!"
   ]
  },
  {
   "cell_type": "code",
   "execution_count": null,
   "metadata": {
    "collapsed": true
   },
   "outputs": [],
   "source": []
  }
 ],
 "metadata": {
  "kernelspec": {
   "display_name": "Python 3",
   "language": "python",
   "name": "python3"
  },
  "language_info": {
   "codemirror_mode": {
    "name": "ipython",
    "version": 3
   },
   "file_extension": ".py",
   "mimetype": "text/x-python",
   "name": "python",
   "nbconvert_exporter": "python",
   "pygments_lexer": "ipython3",
   "version": "3.6.0"
  }
 },
 "nbformat": 4,
 "nbformat_minor": 2
}
